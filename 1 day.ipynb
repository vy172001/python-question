{
 "cells": [
  {
   "cell_type": "markdown",
   "id": "dbfe2bda",
   "metadata": {},
   "source": [
    "### 1- positive or negative number"
   ]
  },
  {
   "cell_type": "code",
   "execution_count": 1,
   "id": "8e9a419a",
   "metadata": {},
   "outputs": [
    {
     "name": "stdout",
     "output_type": "stream",
     "text": [
      "Enter a number:1\n",
      "number is positive 1\n"
     ]
    }
   ],
   "source": [
    "num=eval(input(\"Enter a number:\"))\n",
    "if num>0:\n",
    "    print(\"number is positive\",num)\n",
    "elif num<0:\n",
    "    print(\"number is negative\",num)\n",
    "else:\n",
    "    print(\"number is zero\",num)"
   ]
  },
  {
   "cell_type": "markdown",
   "id": "4da5c032",
   "metadata": {},
   "source": [
    "## 2- Even or odd number"
   ]
  },
  {
   "cell_type": "code",
   "execution_count": 2,
   "id": "97f23f7a",
   "metadata": {},
   "outputs": [
    {
     "name": "stdout",
     "output_type": "stream",
     "text": [
      "Enter a number:1\n",
      "numbner is odd 1\n"
     ]
    }
   ],
   "source": [
    "num1=eval(input(\"Enter a number:\"))\n",
    "if num1>0:\n",
    "    if num1%2==0:\n",
    "        print(\"Number is even\",num1)\n",
    "    elif num1%2!=0:\n",
    "        print(\"numbner is odd\",num1)\n",
    "else:\n",
    "    print(\"number is zero or less then zero\",num1)"
   ]
  },
  {
   "cell_type": "code",
   "execution_count": null,
   "id": "7065bc8c",
   "metadata": {},
   "outputs": [],
   "source": [
    "num=eval(input(\"enter a number \"))\n",
    "a=2\n",
    "s=num//a\n",
    "d=s*a\n",
    "if d==num:\n",
    "    print(\"number is even\",num)\n",
    "else:\n",
    "    print(\"number is odd\",num)\n",
    "    "
   ]
  },
  {
   "cell_type": "code",
   "execution_count": null,
   "id": "ce174597",
   "metadata": {},
   "outputs": [],
   "source": [
    "num=4\n",
    "if num & 1:\n",
    "    print(\"odd\")\n",
    "else:\n",
    "    print(\"even\")"
   ]
  },
  {
   "cell_type": "markdown",
   "id": "6ae957c8",
   "metadata": {},
   "source": [
    "## 3- sum of the n natural numbers"
   ]
  },
  {
   "cell_type": "code",
   "execution_count": null,
   "id": "6a02192d",
   "metadata": {},
   "outputs": [],
   "source": [
    "num2=eval(input(\"enter a number:\"))\n",
    "sum1=0\n",
    "for i in range(1,num2+1):\n",
    "    sum1+=i\n",
    "print(sum1)"
   ]
  },
  {
   "cell_type": "markdown",
   "id": "b10bcca0",
   "metadata": {},
   "source": []
  },
  {
   "cell_type": "markdown",
   "id": "99793e50",
   "metadata": {},
   "source": [
    "## 4- sum of number is a given range "
   ]
  },
  {
   "cell_type": "code",
   "execution_count": null,
   "id": "cb5762ae",
   "metadata": {},
   "outputs": [],
   "source": [
    "first=eval(input(\"enter a first number\"))\n",
    "second=eval(input(\"enter a second number\"))\n",
    "sum1=0\n",
    "for i in range(first,second+1):\n",
    "    sum1+=i\n",
    "print(sum1)"
   ]
  },
  {
   "cell_type": "code",
   "execution_count": null,
   "id": "7ba3291f",
   "metadata": {},
   "outputs": [],
   "source": [
    "f=eval(input(\"enter a first number\"))\n",
    "s=eval(input(\"enter a second number\"))\n",
    "a=f*(f-1)//2\n",
    "b=s*(s+1)//2\n",
    "d=b-a\n",
    "d"
   ]
  },
  {
   "cell_type": "markdown",
   "id": "98f50ebc",
   "metadata": {},
   "source": [
    "## 5- Greatest of tow number"
   ]
  },
  {
   "cell_type": "code",
   "execution_count": null,
   "id": "a2f8d7b7",
   "metadata": {},
   "outputs": [],
   "source": [
    "## Greatest of tow number\n",
    "first=eval(input(\"enter first  number\"))\n",
    "second=eval(input(\"enter second number\"))\n",
    "if first>second:\n",
    "    print(\"first number is greatest number\",)\n",
    "else:\n",
    "    print(\"second number is greatest number\",)"
   ]
  },
  {
   "cell_type": "markdown",
   "id": "e0a7c940",
   "metadata": {},
   "source": [
    "## 6- Greatest of three number"
   ]
  },
  {
   "cell_type": "code",
   "execution_count": null,
   "id": "757a9852",
   "metadata": {},
   "outputs": [],
   "source": [
    "first=eval(input(\"enter first  number\"))\n",
    "second=eval(input(\"enter second number\"))\n",
    "third=eval(input(\"enter third number\"))\n",
    "if first > second and first > third:\n",
    "    print(\"first number is greatest \",first)\n",
    "elif second > first and second > third:\n",
    "    print(\"second number is greatest\",second)\n",
    "else:\n",
    "    print(\"third number is greatest\",third)"
   ]
  },
  {
   "cell_type": "markdown",
   "id": "c721b829",
   "metadata": {},
   "source": [
    "## 7- leap year or not"
   ]
  },
  {
   "cell_type": "code",
   "execution_count": null,
   "id": "4b1c55ec",
   "metadata": {},
   "outputs": [],
   "source": [
    "year=eval(input(\"enter a year\"))\n",
    "\n",
    "if year%400==0:\n",
    "    if year%4==0:\n",
    "        print(\" a leap year\",year)\n",
    "else:\n",
    "    print(\"not a leap year\",year)"
   ]
  },
  {
   "cell_type": "markdown",
   "id": "e60e3238",
   "metadata": {},
   "source": [
    "## 8- prime number"
   ]
  },
  {
   "cell_type": "code",
   "execution_count": null,
   "id": "e8bddd27",
   "metadata": {},
   "outputs": [],
   "source": [
    "import math\n",
    "num=eval(input(\"enter a number : \"))\n",
    "\n",
    "if num>8:\n",
    "    for i in range(2,num+1):\n",
    "        #print(i)\n",
    "        if num==math.sqrt(num):\n",
    "            print(\"number is not prime\",num)\n",
    "    else:\n",
    "        print(\"number is prime\",num)\n",
    "elif num>2 and num<9:\n",
    "    if num%2!=0:\n",
    "        print(\"number is prime\",num)\n",
    "else:\n",
    "    print(\"number is not prim\",num)"
   ]
  },
  {
   "cell_type": "markdown",
   "id": "0dd92deb",
   "metadata": {},
   "source": [
    "## 9- prime number within a given range"
   ]
  },
  {
   "cell_type": "code",
   "execution_count": 10,
   "id": "e8593383",
   "metadata": {
    "scrolled": false
   },
   "outputs": [
    {
     "name": "stdout",
     "output_type": "stream",
     "text": [
      "enter a first number1\n",
      "enter a second number8\n",
      "b number is prime 3\n",
      "b number is prime 5\n",
      "b number is prime 7\n"
     ]
    }
   ],
   "source": [
    "import math\n",
    "first=eval(input(\"enter a first number\"))\n",
    "second=eval(input(\"enter a second number\"))\n",
    "for x in range(first,second+1):\n",
    "    num=x\n",
    "    if num>8:\n",
    "        for i in range(2,10):\n",
    "            if num==math.sqrt(num):\n",
    "                print(\"number is not prime\",num)\n",
    "        else:\n",
    "            print(\" a number is prime\",num)\n",
    "    elif num>2 and num<9:\n",
    "        if num%2!=0:\n",
    "            print(\"b number is prime\",num)"
   ]
  },
  {
   "cell_type": "code",
   "execution_count": null,
   "id": "a8770d6c",
   "metadata": {},
   "outputs": [],
   "source": [
    "# f=eval(input(\"enter a number\"))\n",
    "s=eval(input(\"enter a number\"))\n",
    "for i in range(f,s+1):\n",
    "    count=0\n",
    "    for x in range(2,i//2):\n",
    "        if i%x==0:\n",
    "            count+=1\n",
    "    if count==0:\n",
    "        print(i)"
   ]
  },
  {
   "cell_type": "markdown",
   "id": "b04e935c",
   "metadata": {},
   "source": [
    "## 10- sum of a digit of number "
   ]
  },
  {
   "cell_type": "code",
   "execution_count": null,
   "id": "7958b42c",
   "metadata": {},
   "outputs": [],
   "source": [
    "num=eval(input(\"enter a number\"))\n",
    "sum1=0\n",
    "while num!=0:\n",
    "    rem=num%10\n",
    "    sum1=sum1+rem\n",
    "    num=num//10\n",
    "print(sum1)"
   ]
  },
  {
   "cell_type": "markdown",
   "id": "cdb189fe",
   "metadata": {},
   "source": [
    "## 11- Reverse of a number"
   ]
  },
  {
   "cell_type": "code",
   "execution_count": null,
   "id": "a568bb05",
   "metadata": {},
   "outputs": [],
   "source": [
    "num=eval(input(\"Enter a number: \"))\n",
    "rev=0\n",
    "while num!=0:\n",
    "    rem=num%10\n",
    "    rev=rev*10+rem\n",
    "    num=num//10\n",
    "print(rev)"
   ]
  },
  {
   "cell_type": "markdown",
   "id": "f6a7b23f",
   "metadata": {},
   "source": [
    "## 12- palindrome number"
   ]
  },
  {
   "cell_type": "code",
   "execution_count": null,
   "id": "edc61890",
   "metadata": {},
   "outputs": [],
   "source": [
    "num1=eval(input(\"Enter a number\"))\n",
    "num2=num1\n",
    "rev=0\n",
    "while num1!=0:\n",
    "    rem=num1%10\n",
    "    rev=rev*10+rem\n",
    "    num1=num1//10\n",
    "if num2==rev:\n",
    "    print(\"Number is palindrome\",num2)\n",
    "else:\n",
    "    print(\"Number is not palindrome\",num2)"
   ]
  },
  {
   "cell_type": "markdown",
   "id": "59be8035",
   "metadata": {},
   "source": [
    "## 13- find the all palindrome number between 100 to 500"
   ]
  },
  {
   "cell_type": "code",
   "execution_count": null,
   "id": "71662606",
   "metadata": {},
   "outputs": [],
   "source": [
    "start=eval(input(\"Enter  a number frome start: \"))\n",
    "end=eval(input(\"Enter a number frome end: \"))\n",
    "for i in range(start,end+1):\n",
    "    num=i\n",
    "    rev=0\n",
    "    number=num\n",
    "    while num!=0:\n",
    "        rem=num%10\n",
    "        rev=rev*10+rem\n",
    "        num=num//10\n",
    "    if number == rev:\n",
    "        print(f\"number is pelindrome:{rev}\")"
   ]
  },
  {
   "cell_type": "markdown",
   "id": "71f24df5",
   "metadata": {},
   "source": [
    "## 14- Armstrong number (153=1^3+5^3+3^3=153)"
   ]
  },
  {
   "cell_type": "code",
   "execution_count": null,
   "id": "a9a70b89",
   "metadata": {},
   "outputs": [],
   "source": [
    "num=eval(input(\"enter a number\"))\n",
    "num1=num\n",
    "sum1=0\n",
    "while num!=0:\n",
    "    rem=num%10\n",
    "    sum1=sum1+rem**3\n",
    "    num=num//10\n",
    "if sum1 == num1:\n",
    "    print(\"This Number is Armstrong\",num1)\n",
    "else:\n",
    "    print(\"This number is not Armstrong\",num1)"
   ]
  },
  {
   "cell_type": "markdown",
   "id": "a5b8e692",
   "metadata": {},
   "source": [
    "## 15- Armstrong number in between 100 to 500"
   ]
  },
  {
   "cell_type": "code",
   "execution_count": null,
   "id": "ab86b88c",
   "metadata": {},
   "outputs": [],
   "source": [
    "start=eval(input(\"Enter from start number:\"))\n",
    "end=eval(input('Enter from end number: '))\n",
    "for i in range(start,end+1):\n",
    "    num=i\n",
    "    num1=num\n",
    "    rev=0\n",
    "    while num!=0:\n",
    "        rem=num%10\n",
    "        rev=rev+rem**3\n",
    "        num=num//10\n",
    "    if rev == num1:\n",
    "        print('number is armstrong',rev)\n"
   ]
  },
  {
   "cell_type": "markdown",
   "id": "c85580cf",
   "metadata": {},
   "source": [
    "## 16- Fiboncci serise up to nth term"
   ]
  },
  {
   "cell_type": "code",
   "execution_count": null,
   "id": "a03c45cb",
   "metadata": {},
   "outputs": [],
   "source": [
    "num=eval(input(\"enter a number\"))\n",
    "def fib(n):\n",
    "    a=0\n",
    "    b=1\n",
    "    if n==1:\n",
    "        print(a)\n",
    "    else:\n",
    "        for i in range(2,n+1):\n",
    "            c=a+b\n",
    "            a = b\n",
    "            b = c\n",
    "            print(c)\n",
    "fib(num)"
   ]
  },
  {
   "cell_type": "markdown",
   "id": "545fdc18",
   "metadata": {},
   "source": [
    "## 17- Factorial of a number (5!=1 * 2 * 3 * 4*5=120)"
   ]
  },
  {
   "cell_type": "code",
   "execution_count": null,
   "id": "7989039e",
   "metadata": {},
   "outputs": [],
   "source": [
    "num=eval(input(\"enter a number \"))\n",
    "sum1=1\n",
    "for i in range(1,num+1):\n",
    "    sum1=sum1*i\n",
    "print(sum1)"
   ]
  },
  {
   "cell_type": "markdown",
   "id": "6b49a2ae",
   "metadata": {},
   "source": [
    "## 18 - power of a number (2^3=8 or 3^4=81 or 4^5=1024)"
   ]
  },
  {
   "cell_type": "code",
   "execution_count": null,
   "id": "acaf280e",
   "metadata": {},
   "outputs": [],
   "source": [
    "number=eval(input('enter a number'))\n",
    "def power(num):\n",
    "    num1=num+1\n",
    "    return(num**num1)\n",
    "\n",
    "result=power(number)\n",
    "print(\"power of a number\",result)"
   ]
  },
  {
   "cell_type": "code",
   "execution_count": null,
   "id": "28b160f4",
   "metadata": {},
   "outputs": [],
   "source": [
    "base=eval(input(\"enter a base\"))\n",
    "exp=eval(input(\"enter a exponent\"))\n",
    "power=base**exp\n",
    "print(power)"
   ]
  },
  {
   "cell_type": "markdown",
   "id": "951f47bf",
   "metadata": {},
   "source": [
    "## 19- factor of a number (10=1,2,5 or 15=1,3,5)"
   ]
  },
  {
   "cell_type": "code",
   "execution_count": null,
   "id": "431943aa",
   "metadata": {},
   "outputs": [],
   "source": [
    "num=eval(input(\"enter a number\"))\n",
    "for i in range(1,num):\n",
    "    rem=num%i\n",
    "    if rem==0:\n",
    "        print(i)\n",
    "    "
   ]
  },
  {
   "cell_type": "markdown",
   "id": "b6daff71",
   "metadata": {},
   "source": [
    "## 20 - check the number is strong number\n",
    "#### ex - number(145) 1!+4!+5!=145 \n",
    "        "
   ]
  },
  {
   "cell_type": "markdown",
   "id": "4bcb5a3e",
   "metadata": {},
   "source": [
    "### method-1"
   ]
  },
  {
   "cell_type": "code",
   "execution_count": null,
   "id": "19a690e7",
   "metadata": {},
   "outputs": [],
   "source": [
    "def fac(rem):\n",
    "    s=1\n",
    "    for i in range(1,rem+1):\n",
    "        s=s*i\n",
    "    return(s)\n",
    "sum1=0\n",
    "num=145\n",
    "while num!=0:\n",
    "    rem=num%10\n",
    "    sum1=sum1+fac(rem)\n",
    "    num=num//10\n",
    "    \n",
    "print(sum1)"
   ]
  },
  {
   "cell_type": "markdown",
   "id": "275568a8",
   "metadata": {},
   "source": [
    "### method-2"
   ]
  },
  {
   "cell_type": "code",
   "execution_count": null,
   "id": "2e1b9571",
   "metadata": {},
   "outputs": [],
   "source": [
    "num=145\n",
    "d=1\n",
    "f=0\n",
    "while num != 0:\n",
    "    rem=num%10\n",
    "    #print(rem)\n",
    "    for i in range(1,rem+1):\n",
    "        #print(i)\n",
    "        d=d*i\n",
    "        #print(d)\n",
    "    s=d\n",
    "        #break\n",
    "    d=1\n",
    "    f=f+s\n",
    "    num=num//10\n",
    "print(f)"
   ]
  },
  {
   "cell_type": "markdown",
   "id": "51a09716",
   "metadata": {},
   "source": [
    "## 21- check the number is perfect number\n",
    " ### ex. 6= 1,2,3 are divisor 1*2*3=6"
   ]
  },
  {
   "cell_type": "code",
   "execution_count": null,
   "id": "5a6eb223",
   "metadata": {},
   "outputs": [],
   "source": [
    "num=eval(input(\"enter a number\"))\n",
    "num1=num\n",
    "s=1\n",
    "for i in range(1,num):\n",
    "    #print(i)\n",
    "    rem=num%i\n",
    "    if rem==0:\n",
    "        s=s*i\n",
    "if num1==s:\n",
    "    print(\"The given number is perfect number\",num1)\n",
    "else:\n",
    "    print(\"The given number is not a perfect number\",num1)"
   ]
  },
  {
   "cell_type": "markdown",
   "id": "6a2bbd5b",
   "metadata": {},
   "source": [
    "## 22- check the number is perfect square \n",
    "#### ex. 4=2*2 of 16=4*4 "
   ]
  },
  {
   "cell_type": "code",
   "execution_count": null,
   "id": "bc838dc1",
   "metadata": {},
   "outputs": [],
   "source": [
    "#import math\n",
    "num=eval(input(\"enter a number\"))\n",
    "for i in range(1,num):\n",
    "    divisor=num//i\n",
    "    if divisor == i:\n",
    "        print(\"The given number is perfect square number\",num)\n",
    "# else:\n",
    "#     print(\"The given number is perfect square number\",num)\n",
    "        \n"
   ]
  },
  {
   "cell_type": "markdown",
   "id": "4bc4e68e",
   "metadata": {},
   "source": [
    "## Q-23"
   ]
  },
  {
   "cell_type": "code",
   "execution_count": null,
   "id": "b5fd078c",
   "metadata": {},
   "outputs": [],
   "source": [
    "## enter a number and find to factorial and how maney zero in number of factorial\n",
    "n=eval(input(\"Enter a number : \"))\n",
    "s=1\n",
    "count=0\n",
    "for i in range(1,n+1):\n",
    "    s=s*i\n",
    "f=str(s)\n",
    "for x in f:\n",
    "    if x == '0':\n",
    "        count=count+1\n",
    "print(f\"{n} of factorial: {s}\")\n",
    "print('count of zero',count)        "
   ]
  },
  {
   "cell_type": "markdown",
   "id": "8ecad504",
   "metadata": {},
   "source": [
    "## Q-24  Abundant number"
   ]
  },
  {
   "cell_type": "code",
   "execution_count": null,
   "id": "eb32fbe6",
   "metadata": {},
   "outputs": [],
   "source": [
    "num=eval(input(\"Enter a number\"))\n",
    "sum1=0\n",
    "for i in range(1,num):\n",
    "    if num%i == 0:\n",
    "        #print(i)\n",
    "        sum1=sum1+i\n",
    "if sum1 > num:\n",
    "    print(\"The given number is Abundant number\",num)\n",
    "else:\n",
    "    print(\"The given number is not Abundant number\",num)"
   ]
  },
  {
   "cell_type": "code",
   "execution_count": null,
   "id": "4bbb2a14",
   "metadata": {},
   "outputs": [],
   "source": [
    "n=eva\n",
    "num=eval(input(\"Enter a number\"))\n",
    "sum1=0\n",
    "for i in range(1,num):\n",
    "    if num%i == 0:\n",
    "        #print(i)\n",
    "        sum1=sum1+i\n",
    "if sum1 > num:\n",
    "    print(\"The given number is Abundant number\",num)\n",
    "else:\n",
    "    print(\"The given number is not Abundant number\",num)"
   ]
  },
  {
   "cell_type": "markdown",
   "id": "c54d9b70",
   "metadata": {},
   "source": [
    "## Q-25 friendly  pair "
   ]
  },
  {
   "cell_type": "code",
   "execution_count": null,
   "id": "c0344035",
   "metadata": {},
   "outputs": [],
   "source": [
    "num=eval(input(\"Enter the first number\"))\n",
    "num1=eval(input(\"enter a second number\"))\n",
    "add=0\n",
    "d=0\n",
    "for i in range(1,num+1):\n",
    "    if num %i == 0:\n",
    "        add=add+i\n",
    "        d=add/num\n",
    "\n",
    "add1=0\n",
    "d1=0\n",
    "for i in range(1,num1+1):\n",
    "    if num1 %i == 0:\n",
    "        add1=add1+i\n",
    "        d1=add1/num1\n",
    "\n",
    "if d == d1:\n",
    "    print(\"The given number is Friendly pair\",d,d1)\n",
    "    print(\"The given number is Friendly pair\",num,num1)"
   ]
  },
  {
   "cell_type": "markdown",
   "id": "f70cade5",
   "metadata": {},
   "source": [
    "## Q-26 Highest common factor (HCF) of tow number"
   ]
  },
  {
   "cell_type": "code",
   "execution_count": 76,
   "id": "d07ae6d3",
   "metadata": {},
   "outputs": [
    {
     "name": "stdout",
     "output_type": "stream",
     "text": [
      "enter first number12\n",
      "enter second number16\n",
      "HCF of tow number 4\n"
     ]
    }
   ],
   "source": [
    "first=eval(input(\"enter first number\"))\n",
    "second=eval(input(\"enter second number\"))\n",
    "c=0\n",
    "if first>second:\n",
    "    smal=second\n",
    "else:\n",
    "    smal=first\n",
    "for i in range(1,smal+1):\n",
    "    if first%i == 0 and second%i == 0 :\n",
    "        #print(i)\n",
    "        if i>c:\n",
    "            c=i\n",
    "        else:\n",
    "            print(i)\n",
    "print('HCF of tow number',c)"
   ]
  },
  {
   "cell_type": "markdown",
   "id": "b52c7fe7",
   "metadata": {},
   "source": [
    "## Q-28 lowest common factor (LCM) of tow number"
   ]
  },
  {
   "cell_type": "code",
   "execution_count": 80,
   "id": "03ebb750",
   "metadata": {},
   "outputs": [
    {
     "name": "stdout",
     "output_type": "stream",
     "text": [
      "enter first number12\n",
      "enter second number14\n",
      "Tow number of lcm 168\n"
     ]
    }
   ],
   "source": [
    "num1=eval(input(\"enter first number\"))\n",
    "num2=eval(input(\"enter second number\"))\n",
    "if num1>num2:\n",
    "    gretar=num1\n",
    "    small=num2\n",
    "else:\n",
    "    gretar=num2\n",
    "    small=num1\n",
    "if gretar %small == 0:\n",
    "    print('Tow number of lcm',gretar)\n",
    "else:\n",
    "    print('Tow number of lcm',num1*num2)\n",
    "    "
   ]
  },
  {
   "cell_type": "code",
   "execution_count": 84,
   "id": "3941aabb",
   "metadata": {},
   "outputs": [
    {
     "name": "stdout",
     "output_type": "stream",
     "text": [
      "enter first number13\n",
      "enter second number21\n",
      "Tow number of lcm16\n"
     ]
    }
   ],
   "source": [
    "num1=eval(input(\"enter first number\"))\n",
    "num2=eval(input(\"enter second number\"))\n",
    "if num1>num2:\n",
    "    rem=num1%num2\n",
    "    #print(rem)\n",
    "    a=num1//rem\n",
    "    b=num2//rem\n",
    "    lcm=rem*a*b\n",
    "    print(f\"Tow number of lcm{lcm}\")\n",
    "else:\n",
    "    rem=num2%num1\n",
    "    #print(rem)\n",
    "    c=num1//rem\n",
    "    d=num2//rem\n",
    "    lcm=rem*c*d\n",
    "    print(f\"Tow number of lcm{lcm}\")\n",
    "    #print('k')"
   ]
  },
  {
   "cell_type": "code",
   "execution_count": null,
   "id": "a5ebc845",
   "metadata": {},
   "outputs": [],
   "source": [
    "import math\n",
    "\n",
    "def compute_lcm(x, y):\n",
    "    # Calculate the GCD\n",
    "    gcd = math.gcd(x, y)\n",
    "    \n",
    "    # Calculate the LCM\n",
    "    lcm = (x * y) // gcd\n",
    "    return lcm\n",
    "# Example usage\n",
    "num1 = 54\n",
    "num2 = 24\n",
    "print(\"The L.C.M. is\", compute_lcm(num1, num2))"
   ]
  },
  {
   "cell_type": "code",
   "execution_count": null,
   "id": "47461103",
   "metadata": {},
   "outputs": [],
   "source": [
    "num1=eval(input(\"Enter first number\"))\n",
    "num2=eval(input(\"Enter second number\"))\n",
    "import math\n",
    "def lcm(x,y):\n",
    "    gcd=math.gcd(x,y)\n",
    "    #print(gcd)\n",
    "    result=(x*y)//gcd\n",
    "    print(result)\n",
    "lcm(num1,num2)"
   ]
  },
  {
   "cell_type": "code",
   "execution_count": null,
   "id": "0156089b",
   "metadata": {},
   "outputs": [],
   "source": [
    "n1=54\n",
    "n2=24\n",
    "for i in range(2,10):\n",
    "    if n1%i == 0 and n2%i == 0:\n",
    "        print(i)\n",
    "        s=+"
   ]
  },
  {
   "cell_type": "code",
   "execution_count": null,
   "id": "61fb7636",
   "metadata": {},
   "outputs": [],
   "source": [
    "26%2"
   ]
  },
  {
   "cell_type": "code",
   "execution_count": null,
   "id": "ea8e12e0",
   "metadata": {},
   "outputs": [],
   "source": [
    "# This function computes GCD \n",
    "def compute_gcd(x, y):\n",
    "\n",
    "   while(y):\n",
    "       x, y = y, x % y\n",
    "   return x\n",
    "\n",
    "# This function computes LCM\n",
    "def compute_lcm(x, y):\n",
    "   lcm = (x*y)//compute_gcd(x,y)\n",
    "   return lcm\n",
    "\n",
    "num1 = 54\n",
    "num2 = 24 \n",
    "\n",
    "print(\"The L.C.M. is\", compute_lcm(num1, num2))"
   ]
  },
  {
   "cell_type": "code",
   "execution_count": null,
   "id": "8dae67e2",
   "metadata": {},
   "outputs": [],
   "source": [
    "7%12"
   ]
  },
  {
   "cell_type": "markdown",
   "id": "e7281f41",
   "metadata": {},
   "source": [
    "## Q-29 Decimal to binary conversion"
   ]
  },
  {
   "cell_type": "code",
   "execution_count": 275,
   "id": "98db1ce6",
   "metadata": {},
   "outputs": [
    {
     "name": "stdout",
     "output_type": "stream",
     "text": [
      "enter a nunber10\n",
      "[1, 0, 1, 0]\n"
     ]
    }
   ],
   "source": [
    "num=eval(input(\"enter a nunber\"))\n",
    "d=[]\n",
    "while num !=0:\n",
    "    rem=num%2\n",
    "    d.append(rem)\n",
    "    #print(rem)\n",
    "    num=num//2\n",
    "d.reverse()\n",
    "#print(d)\n",
    "for i in range(0,len(d)):\n",
    "    print(d[i],end='')"
   ]
  },
  {
   "cell_type": "markdown",
   "id": "0e4631df",
   "metadata": {},
   "source": [
    "## Q-30 Decimal to octal conversion"
   ]
  },
  {
   "cell_type": "code",
   "execution_count": null,
   "id": "4e69bcfb",
   "metadata": {},
   "outputs": [],
   "source": [
    "num=input('enter a number ') #670\n",
    "d=[]\n",
    "while num !=0:\n",
    "    rem=num%8\n",
    "    #print(rem)\n",
    "    d.append(rem)\n",
    "    num=num//8\n",
    "d.reverse()\n",
    "print(d)\n",
    "for i in range(0,len(d)):\n",
    "    print(d[i],end='')"
   ]
  },
  {
   "cell_type": "markdown",
   "id": "0ca56bd5",
   "metadata": {},
   "source": [
    "## Q-31 Decimal to Hexadecimal conversion"
   ]
  },
  {
   "cell_type": "code",
   "execution_count": null,
   "id": "13f29deb",
   "metadata": {},
   "outputs": [],
   "source": [
    "num=eval(input('670\n",
    "d=[]\n",
    "while num !=0:\n",
    "    rem=num%6\n",
    "    #print(rem)\n",
    "    d.append(rem)\n",
    "    num=num//6\n",
    "d.reverse()\n",
    "print(d)"
   ]
  },
  {
   "cell_type": "markdown",
   "id": "3844d7f3",
   "metadata": {},
   "source": [
    "## Q-32 Binary to Decimal conversion"
   ]
  },
  {
   "cell_type": "code",
   "execution_count": null,
   "id": "36860682",
   "metadata": {},
   "outputs": [],
   "source": [
    "a=input(\"enter a number\")\n",
    "d1=list(a)\n",
    "d1\n",
    "add1=0\n",
    "count=1\n",
    "for i in range(0,len(d1)):\n",
    "    #print(d1[i])\n",
    "    if d1[i] < '2':\n",
    "        add1=add1+int(d1[i])*2**count\n",
    "        #print(count)\n",
    "        #print(2**count)\n",
    "        #print(s)\n",
    "        count=count+1\n",
    "print(add1)"
   ]
  },
  {
   "cell_type": "markdown",
   "id": "06ce917f",
   "metadata": {},
   "source": [
    "## Q-30 Binary to octal conversion"
   ]
  },
  {
   "cell_type": "code",
   "execution_count": 305,
   "id": "39331e0f",
   "metadata": {},
   "outputs": [
    {
     "name": "stdout",
     "output_type": "stream",
     "text": [
      "enter a  binary  number1010\n",
      "first convert to decimal 10\n",
      "octal number 2\n"
     ]
    }
   ],
   "source": [
    "a=input(\"enter a  binary  number\")\n",
    "d1=list(a)\n",
    "d1\n",
    "add1=0\n",
    "count=1\n",
    "for i in range(0,len(d1)):\n",
    "    #print(d1[i])\n",
    "    if d1[i] < '2':\n",
    "        add1=add1+int(d1[i])*2**count\n",
    "        #print(count)\n",
    "        #print(2**count)\n",
    "        #print(s)\n",
    "        count=count+1\n",
    "print('first convert to decimal',add1)\n",
    "add1\n",
    "g=[]\n",
    "while add1!=0:\n",
    "    rem=add1%8\n",
    "    g.append(rem)\n",
    "    #print(rem)\n",
    "    add1=add1//8\n",
    "g.reverse()\n",
    "octal=0\n",
    "for i in range(0,len(g)):\n",
    "    #print(\"octal number\")\n",
    "    octal=g[i]\n",
    "print(\"octal number\",octal)"
   ]
  },
  {
   "cell_type": "markdown",
   "id": "1baf9218",
   "metadata": {},
   "source": [
    "## Q-30 Binary to octal conversion"
   ]
  },
  {
   "cell_type": "code",
   "execution_count": 316,
   "id": "e0374d0a",
   "metadata": {},
   "outputs": [
    {
     "name": "stdout",
     "output_type": "stream",
     "text": [
      "enter a number1\n",
      "1\n"
     ]
    }
   ],
   "source": [
    "num=input(\"enter a number\")\n",
    "for i in num:\n",
    "    total=total*count+"
   ]
  },
  {
   "cell_type": "code",
   "execution_count": null,
   "id": "23b64f07",
   "metadata": {},
   "outputs": [],
   "source": [
    "## Q-31 Binary to hexadecimal conversion"
   ]
  },
  {
   "cell_type": "code",
   "execution_count": null,
   "id": "ab4e2174",
   "metadata": {},
   "outputs": [],
   "source": [
    "## Q-32 Octa to Decimal conversion"
   ]
  },
  {
   "cell_type": "markdown",
   "id": "ddf2d407",
   "metadata": {},
   "source": [
    "## Q-33 Hexadecimal to binary conversion"
   ]
  },
  {
   "cell_type": "markdown",
   "id": "1df67896",
   "metadata": {},
   "source": [
    "## Q-34 Quadrants in which the given coordinates lie"
   ]
  },
  {
   "cell_type": "code",
   "execution_count": null,
   "id": "394ef369",
   "metadata": {},
   "outputs": [],
   "source": [
    "X=eval(input(\"Enter the X-coordinate:\"))\n",
    "Y=eval(input(\"Enter the Y-coordinate:\"))\n",
    "if X>0 and Y>0:\n",
    "    print( 'lie in first Quadrants',(X,Y))\n",
    "elif X<0 and Y>0:\n",
    "    print( 'lie in second Quadrants',(X,Y))\n",
    "elif X<0 and Y<0:\n",
    "    print( 'lie in Three Quadrants',(X,Y))\n",
    "elif X>0 and Y<0:\n",
    "    print( 'lie in forth Quadrants',(X,Y))\n",
    "else:\n",
    "    print(\"lie on center\")"
   ]
  },
  {
   "cell_type": "code",
   "execution_count": null,
   "id": "a6f8e1c5",
   "metadata": {},
   "outputs": [],
   "source": [
    "def find_quadrant(x, y):\n",
    "    if x > 0 and y > 0:\n",
    "        return \"Quadrant 1\"\n",
    "    elif x < 0 and y > 0:\n",
    "        return \"Quadrant 2\"\n",
    "    elif x < 0 and y < 0:\n",
    "        return \"Quadrant 3\"\n",
    "    elif x > 0 and y < 0:\n",
    "        return \"Quadrant 4\"\n",
    "    else:\n",
    "        return \"Origin (x = 0, y = 0)\"\n",
    "\n",
    "# Example usage:\n",
    "x_coord = float(input(\"Enter the x-coordinate: \"))\n",
    "y_coord = float(input(\"Enter the y-coordinate: \"))\n",
    "print(f\"The given coordinates lie in {find_quadrant(x_coord, y_coord)}.\")\n"
   ]
  },
  {
   "cell_type": "markdown",
   "id": "96ad48a2",
   "metadata": {},
   "source": [
    "#### Q-35 Money in number inputted by user finde how many 500,200,100,50 notes are there"
   ]
  },
  {
   "cell_type": "code",
   "execution_count": null,
   "id": "fcaad251",
   "metadata": {},
   "outputs": [],
   "source": [
    "d=eval(input(\"enter a number\"))\n",
    "def f(d):\n",
    "    while d !=0:\n",
    "        if d>499:\n",
    "            dev5=d//500\n",
    "            print('500',dev5)\n",
    "            d=d-500*dev5\n",
    "        elif d>199 and d<500:\n",
    "            dev6=d//200\n",
    "            print('200',dev6)\n",
    "            d=d-200*dev6\n",
    "        elif d>50 and d<200:\n",
    "            dev7=d//100\n",
    "            print('100',dev7)\n",
    "            d=d-100*dev7\n",
    "        elif d>49 and d<100:\n",
    "            dev8=d//50\n",
    "            print('50',dev8)\n",
    "            d=d-50*dev8\n",
    "    #return 'hai'\n",
    "    \n",
    "f(d)"
   ]
  },
  {
   "cell_type": "code",
   "execution_count": null,
   "id": "1c3a6d67",
   "metadata": {},
   "outputs": [],
   "source": [
    "amount=eval(input(\"Enter your amount\"))\n",
    "d500=amount//500\n",
    "amount=amount%500\n",
    "d200=amount//200\n",
    "amount=amount%200\n",
    "d100=amount//100\n",
    "amount=amount%100\n",
    "print(f'{d500,d200,d100}500,200,100')"
   ]
  },
  {
   "cell_type": "markdown",
   "id": "08d48711",
   "metadata": {},
   "source": [
    "## Q-36 Addition of tow fraction"
   ]
  },
  {
   "cell_type": "code",
   "execution_count": null,
   "id": "c80fffd8",
   "metadata": {},
   "outputs": [],
   "source": [
    "nom1=eval(input(\"Enter first number of nominetor\"))\n",
    "den1=eval(input(\"Enter first number of denominetor\"))\n",
    "nom2=eval(input(\"Enter second number of nominetor\"))\n",
    "den2=eval(input(\"Enter second number of denominetor\"))\n",
    "mul=den1*den2\n",
    "s=mul//den1\n",
    "s=s*nom1\n",
    "d=mul//den2\n",
    "d=d*nom2\n",
    "print(f\" tow fraction add={nom1}/{den1}+{nom2}/{den2}={s+d}/{mul}\")"
   ]
  },
  {
   "cell_type": "code",
   "execution_count": 78,
   "id": "24704fe6",
   "metadata": {},
   "outputs": [
    {
     "name": "stdout",
     "output_type": "stream",
     "text": [
      "2\n",
      "84\n",
      "k\n"
     ]
    }
   ],
   "source": [
    "num1=12\n",
    "num2=14\n",
    "if num1>num2:\n",
    "    rem=num1%num2\n",
    "    #print(rem)\n",
    "    a=num1//rem\n",
    "    b=num2//rem\n",
    "    hcf=rem*a*b\n",
    "    print(hcf)\n",
    "else:\n",
    "    rem=num2%num1\n",
    "    #print(rem)\n",
    "    c=num1//rem\n",
    "    d=num2//rem\n",
    "    hcf=rem*c*d\n",
    "    print(hcf)\n",
    "    #print('k')\n",
    "   "
   ]
  },
  {
   "cell_type": "code",
   "execution_count": 67,
   "id": "b32d2e83",
   "metadata": {},
   "outputs": [
    {
     "data": {
      "text/plain": [
       "2"
      ]
     },
     "execution_count": 67,
     "metadata": {},
     "output_type": "execute_result"
    }
   ],
   "source": [
    "num1%num2"
   ]
  },
  {
   "cell_type": "code",
   "execution_count": null,
   "id": "a5190f01",
   "metadata": {},
   "outputs": [],
   "source": []
  },
  {
   "cell_type": "markdown",
   "id": "9a32a605",
   "metadata": {},
   "source": [
    "## Q-37 Counting the number of days in given mont of a year"
   ]
  },
  {
   "cell_type": "code",
   "execution_count": null,
   "id": "a8418337",
   "metadata": {},
   "outputs": [],
   "source": [
    "year=eval(input(\"Enter the  year\"))\n",
    "month=eval(input(\"Enter  the month\"))\n",
    "if month==2 and year%4 ==0 or year%100==0 and year%400==0:\n",
    "    print('number of days 29' )\n",
    "elif month ==2:\n",
    "    print(\"number of days 28\")\n",
    "elif month==1 or month==3 or month==5 or month==7 or month==8 or month==10:\n",
    "    print(\"number of days 31\")\n",
    "else:\n",
    "    print(\"number of days 30\")"
   ]
  },
  {
   "cell_type": "markdown",
   "id": "2d05405f",
   "metadata": {},
   "source": [
    "## Q-38 Finding roots of a quadratic quation"
   ]
  },
  {
   "cell_type": "code",
   "execution_count": null,
   "id": "5cd7e40f",
   "metadata": {},
   "outputs": [],
   "source": []
  },
  {
   "cell_type": "markdown",
   "id": "f2a5dd05",
   "metadata": {},
   "source": [
    "### Q-39 reolace all 0 with 1 in a given integer (given=1230205 , output(1231215))"
   ]
  },
  {
   "cell_type": "code",
   "execution_count": 62,
   "id": "ddae2ee6",
   "metadata": {},
   "outputs": [
    {
     "name": "stdout",
     "output_type": "stream",
     "text": [
      "[1, 2, 3, 1, 2, 0, 5]\n",
      "[1, 2, 3, 1, 2, 1, 5]\n"
     ]
    }
   ],
   "source": [
    "num=[1,2,3,0,2,0,5]\n",
    "num1=[]\n",
    "for i in range(0,len(num)):\n",
    "    if num[i]==0:\n",
    "        num[i]=1\n",
    "        print(num)"
   ]
  },
  {
   "cell_type": "code",
   "execution_count": 58,
   "id": "c3fcc1c4",
   "metadata": {},
   "outputs": [
    {
     "data": {
      "text/plain": [
       "'[1, 2, 3, 1, 2, 1, 5]'"
      ]
     },
     "execution_count": 58,
     "metadata": {},
     "output_type": "execute_result"
    }
   ],
   "source": [
    "num=[1,2,3,0,2,0,5]\n",
    "num1=str(num)\n",
    "num1.replace('0','1')"
   ]
  },
  {
   "cell_type": "markdown",
   "id": "9ae754f0",
   "metadata": {},
   "source": [
    "### Q-40 Finding number of times X digit occurs in a given input ex.(828272,x=2) output(2)"
   ]
  },
  {
   "cell_type": "code",
   "execution_count": 2,
   "id": "c439dcff",
   "metadata": {},
   "outputs": [
    {
     "name": "stdout",
     "output_type": "stream",
     "text": [
      "enter a number822872\n",
      "3\n"
     ]
    }
   ],
   "source": [
    "num1=eval(input(\"enter a number\"))\n",
    "num1=str(num1)\n",
    "count=0\n",
    "for i in num1:\n",
    "    if i=='2':\n",
    "        count+=1\n",
    "print(count)"
   ]
  },
  {
   "cell_type": "markdown",
   "id": "4dfba244",
   "metadata": {},
   "source": [
    "## Q-41 Find the largest element in the list"
   ]
  },
  {
   "cell_type": "code",
   "execution_count": 85,
   "id": "d49b67e0",
   "metadata": {},
   "outputs": [
    {
     "name": "stdout",
     "output_type": "stream",
     "text": [
      "200\n"
     ]
    }
   ],
   "source": [
    "list1=[12,13,14,100,1,2,3,4,200]\n",
    "result=list1[1]\n",
    "for i in range(1,len(list1)):\n",
    "    if list1[i]>result:\n",
    "        result=list1[i]\n",
    "print(result)"
   ]
  },
  {
   "cell_type": "code",
   "execution_count": 78,
   "id": "c5caf727",
   "metadata": {},
   "outputs": [
    {
     "name": "stdout",
     "output_type": "stream",
     "text": [
      "200\n"
     ]
    }
   ],
   "source": [
    "def m(list1):\n",
    "    a=list1[0]\n",
    "    for i in list1:\n",
    "        if i>a:\n",
    "            a=i\n",
    "        return a\n",
    "m([12,13,14,100,1,250,3,4])\n",
    "print(a)\n",
    "            "
   ]
  },
  {
   "cell_type": "code",
   "execution_count": null,
   "id": "deffb11e",
   "metadata": {},
   "outputs": [],
   "source": []
  },
  {
   "cell_type": "code",
   "execution_count": 20,
   "id": "028be1f9",
   "metadata": {},
   "outputs": [
    {
     "data": {
      "text/plain": [
       "200"
      ]
     },
     "execution_count": 20,
     "metadata": {},
     "output_type": "execute_result"
    }
   ],
   "source": [
    "list1=[12,13,14,100,1,2,3,4,200]\n",
    "list1.sort()\n",
    "list1.reverse()\n",
    "list1[0]"
   ]
  },
  {
   "cell_type": "code",
   "execution_count": 49,
   "id": "17ff2c17",
   "metadata": {},
   "outputs": [
    {
     "name": "stdout",
     "output_type": "stream",
     "text": [
      "0\n",
      "1\n",
      "2\n",
      "3\n",
      "4\n",
      "5\n"
     ]
    }
   ],
   "source": [
    "list2=['vijay','sanjay','pankaj','shahil','a','z']\n",
    "for i in range(len(list2)):\n",
    "    for j in range"
   ]
  },
  {
   "cell_type": "markdown",
   "id": "42345215",
   "metadata": {},
   "source": [
    "## Q-42 Find the smallest element in the list"
   ]
  },
  {
   "cell_type": "code",
   "execution_count": 52,
   "id": "9c509ebe",
   "metadata": {},
   "outputs": [
    {
     "data": {
      "text/plain": [
       "1"
      ]
     },
     "execution_count": 52,
     "metadata": {},
     "output_type": "execute_result"
    }
   ],
   "source": [
    "list1=[12,13,14,100,1,2,3,4,200]\n",
    "list1.sort()\n",
    "list1[0]"
   ]
  },
  {
   "cell_type": "code",
   "execution_count": 86,
   "id": "396ff1c5",
   "metadata": {},
   "outputs": [
    {
     "name": "stdout",
     "output_type": "stream",
     "text": [
      "1\n"
     ]
    }
   ],
   "source": [
    "list1=[12,13,14,100,1,2,3,4,200]\n",
    "result=list1[1]\n",
    "for i in range(1,len(list1)):\n",
    "    if list1[i]<result:\n",
    "        result=list1[i]\n",
    "print(result)\n",
    "    "
   ]
  },
  {
   "cell_type": "code",
   "execution_count": 81,
   "id": "1144d289",
   "metadata": {},
   "outputs": [
    {
     "data": {
      "text/plain": [
       "12"
      ]
     },
     "execution_count": 81,
     "metadata": {},
     "output_type": "execute_result"
    }
   ],
   "source": [
    "list1=[12,13,14,100,1,2,3,4,200]\n",
    "def m(list1):\n",
    "    n=list1[0]\n",
    "    for i in list1:\n",
    "        if i<a:\n",
    "            n=i\n",
    "        return n\n",
    "m(list1)      "
   ]
  },
  {
   "cell_type": "markdown",
   "id": "42010620",
   "metadata": {},
   "source": [
    "## Q-43 Find the largest and smallest element in the list"
   ]
  },
  {
   "cell_type": "code",
   "execution_count": 53,
   "id": "eecd6a29",
   "metadata": {},
   "outputs": [
    {
     "data": {
      "text/plain": [
       "(1, 200)"
      ]
     },
     "execution_count": 53,
     "metadata": {},
     "output_type": "execute_result"
    }
   ],
   "source": [
    "list1=[12,13,14,100,1,2,3,4,200]\n",
    "list1.sort()\n",
    "list1[0],list1[-1]"
   ]
  },
  {
   "cell_type": "code",
   "execution_count": 105,
   "id": "fd4d87f2",
   "metadata": {},
   "outputs": [
    {
     "name": "stdout",
     "output_type": "stream",
     "text": [
      "smallest number of list:1, bigest number of list200\n"
     ]
    }
   ],
   "source": [
    "list1=[12,13,14,100,7,6,5,1,200]\n",
    "result=list1[1]\n",
    "result1=list1[1]\n",
    "for i in range(1,len(list1)):\n",
    "    if list1[i]<result:\n",
    "        result=list1[i]\n",
    "    elif list1[i]>result1:\n",
    "        result1=list1[i]\n",
    "print(f\"smallest number of list:{result}, bigest number of list{result1}\")"
   ]
  },
  {
   "cell_type": "markdown",
   "id": "bef51545",
   "metadata": {},
   "source": [
    "## Q-44 Find the second smallest element in the list"
   ]
  },
  {
   "cell_type": "code",
   "execution_count": 54,
   "id": "bcb1eac3",
   "metadata": {},
   "outputs": [
    {
     "data": {
      "text/plain": [
       "2"
      ]
     },
     "execution_count": 54,
     "metadata": {},
     "output_type": "execute_result"
    }
   ],
   "source": [
    "list1=[12,13,14,100,1,2,3,4,200]\n",
    "list1.sort()\n",
    "list1[1]"
   ]
  },
  {
   "cell_type": "code",
   "execution_count": 187,
   "id": "4ec07108",
   "metadata": {},
   "outputs": [
    {
     "name": "stdout",
     "output_type": "stream",
     "text": [
      "origanal list [12, 13, 14, 100, 1, 2, 3, 4, 200]\n",
      "new [1, 2, 3, 4, 12, 13, 14, 100, 200]\n"
     ]
    },
    {
     "data": {
      "text/plain": [
       "(1, 200)"
      ]
     },
     "execution_count": 187,
     "metadata": {},
     "output_type": "execute_result"
    }
   ],
   "source": [
    "list1=[12,13,14,100,1,2,3,4,200]\n",
    "print(\"origanal list\",list1)\n",
    "for i in range(0,len(list1)):\n",
    "    for j in range(i+1,len(list1)):\n",
    "        if list1[i]>=list1[j]:\n",
    "            n=list1[i]\n",
    "            list1[i]=list1[j]\n",
    "            list1[j]=n\n",
    "print('new',list1)\n",
    "list1[0],list1[-1]"
   ]
  },
  {
   "cell_type": "code",
   "execution_count": 188,
   "id": "0e9aa848",
   "metadata": {},
   "outputs": [
    {
     "name": "stdout",
     "output_type": "stream",
     "text": [
      "Original List: [76, 23, 45, 12, 54, 9]\n",
      "[9, 12, 23, 45, 54, 76]\n"
     ]
    }
   ],
   "source": [
    "l1=[76, 23, 45, 12, 54, 9] \n",
    "print(\"Original List:\", l1)\n",
    " \n",
    "for i in range(0, len(l1)):\n",
    "    for j in range(i+1, len(l1)):\n",
    "        if l1[i] >= l1[j]:\n",
    "            l1[i], l1[j] = l1[j],l1[i]\n",
    "print(l1)"
   ]
  },
  {
   "cell_type": "markdown",
   "id": "42a7c2b5",
   "metadata": {},
   "source": [
    "## Q-45 Colculate the sum of element in a list"
   ]
  },
  {
   "cell_type": "code",
   "execution_count": 123,
   "id": "0c2d5af0",
   "metadata": {},
   "outputs": [
    {
     "name": "stdout",
     "output_type": "stream",
     "text": [
      "349\n"
     ]
    }
   ],
   "source": [
    "list1=[12,13,14,100,1,2,3,4,200]\n",
    "result=0\n",
    "for i in range(len(list1)):\n",
    "    result=result+list1[i]\n",
    "print(result)"
   ]
  },
  {
   "cell_type": "code",
   "execution_count": 119,
   "id": "e93a09df",
   "metadata": {},
   "outputs": [
    {
     "data": {
      "text/plain": [
       "349"
      ]
     },
     "execution_count": 119,
     "metadata": {},
     "output_type": "execute_result"
    }
   ],
   "source": [
    "list1=[12,13,14,100,1,2,3,4,200]\n",
    "sum(list1)"
   ]
  },
  {
   "cell_type": "markdown",
   "id": "c024273e",
   "metadata": {},
   "source": [
    "## Q-46 Reverse the list"
   ]
  },
  {
   "cell_type": "code",
   "execution_count": 57,
   "id": "59e6fbbc",
   "metadata": {},
   "outputs": [
    {
     "data": {
      "text/plain": [
       "[200, 4, 3, 2, 1, 100, 14, 13, 12]"
      ]
     },
     "execution_count": 57,
     "metadata": {},
     "output_type": "execute_result"
    }
   ],
   "source": [
    "list1=[12,13,14,100,1,2,3,4,200]\n",
    "list1[::-1]"
   ]
  },
  {
   "cell_type": "code",
   "execution_count": 139,
   "id": "86693c49",
   "metadata": {},
   "outputs": [
    {
     "name": "stdout",
     "output_type": "stream",
     "text": [
      "200\n",
      "4\n",
      "3\n",
      "2\n",
      "1\n",
      "100\n",
      "14\n",
      "13\n",
      "12\n"
     ]
    }
   ],
   "source": [
    "list1=[12,13,14,100,1,2,3,4,200]\n",
    "for i in range(-1,-len(list1)-1,-1):\n",
    "    print(list1[i])"
   ]
  },
  {
   "cell_type": "markdown",
   "id": "29e3edb5",
   "metadata": {},
   "source": [
    "### Q-47 sort half is ascending order and other half in descending order list"
   ]
  },
  {
   "cell_type": "code",
   "execution_count": 227,
   "id": "79041938",
   "metadata": {},
   "outputs": [
    {
     "name": "stdout",
     "output_type": "stream",
     "text": [
      "sort list [1, 2, 3, 4, 5, 6, 10, 20]\n"
     ]
    },
    {
     "data": {
      "text/plain": [
       "([1, 2, 3, 4], [20, 10, 6, 5])"
      ]
     },
     "execution_count": 227,
     "metadata": {},
     "output_type": "execute_result"
    }
   ],
   "source": [
    "list1=[10,3,2,4,1,6,20,5]\n",
    "for i in range(len(list1)):\n",
    "    for j in range(i+1,len(list1)):\n",
    "        if list1[i]>= list1[j]:\n",
    "            n=list1[j]\n",
    "            list1[j]=list1[i]\n",
    "            #print(n)\n",
    "            list1[i]=n\n",
    "print(\"sort list\",list1)\n",
    "a=len(list1)//2\n",
    "list1[0:a:1],list1[-1:-a-1:-1]"
   ]
  },
  {
   "cell_type": "markdown",
   "id": "39017476",
   "metadata": {},
   "source": [
    "### Q-48 sort the element of list"
   ]
  },
  {
   "cell_type": "code",
   "execution_count": 237,
   "id": "1b496b95",
   "metadata": {},
   "outputs": [
    {
     "name": "stdout",
     "output_type": "stream",
     "text": [
      "[0, 1, 2, 3, 3, 4, 5, 6, 8]\n"
     ]
    }
   ],
   "source": [
    "list2=[1,5,3,6,8,2,0,3,4]\n",
    "for i in range(0,len(list2)):\n",
    "    for j in range(i+1,len(list2)):\n",
    "        if list2[i] >= list2[j]:\n",
    "            f=list2[j]\n",
    "            list2[j] = list2[i]\n",
    "            list2[i]=f\n",
    "print(list2)\n",
    "        "
   ]
  },
  {
   "cell_type": "markdown",
   "id": "9d72bf9b",
   "metadata": {},
   "source": [
    "### Q-53 Find the frquency of element in a list "
   ]
  },
  {
   "cell_type": "code",
   "execution_count": 24,
   "id": "f41dc10e",
   "metadata": {},
   "outputs": [
    {
     "data": {
      "text/plain": [
       "[0, 2, 3, 2, 2, 1, 0, 0, 0, 0, 0]"
      ]
     },
     "execution_count": 24,
     "metadata": {},
     "output_type": "execute_result"
    }
   ],
   "source": [
    "list3=[1,2,3,1,3,4,2,4,2,5]\n",
    "list1=[0]*11\n",
    "for i in list3:\n",
    "    list1[i]+=1\n",
    "list1"
   ]
  },
  {
   "cell_type": "code",
   "execution_count": 26,
   "id": "4cdb0806",
   "metadata": {},
   "outputs": [
    {
     "name": "stdout",
     "output_type": "stream",
     "text": [
      "1 2\n",
      "2 3\n",
      "3 2\n",
      "4 2\n",
      "5 1\n"
     ]
    }
   ],
   "source": [
    "for i in range(len(list1)):\n",
    "    if list1[i]>=1:\n",
    "        print(i,list1[i])\n",
    "    "
   ]
  },
  {
   "cell_type": "markdown",
   "id": "a3b6d5b4",
   "metadata": {},
   "source": [
    "### Q-50 Sorting element of list by frequency"
   ]
  },
  {
   "cell_type": "code",
   "execution_count": 78,
   "id": "2226b802",
   "metadata": {},
   "outputs": [
    {
     "data": {
      "text/plain": [
       "[0, 3, 2, 0]"
      ]
     },
     "execution_count": 78,
     "metadata": {},
     "output_type": "execute_result"
    }
   ],
   "source": [
    "num=[1,1,1,2,2]\n",
    "num1=[0]*4\n",
    "for i in range(0,len(num)):\n",
    "    num1[num[i]]+=1\n"
   ]
  },
  {
   "cell_type": "code",
   "execution_count": 95,
   "id": "1d6a0a0e",
   "metadata": {},
   "outputs": [
    {
     "data": {
      "text/plain": [
       "[0, 0, 2, 3]"
      ]
     },
     "execution_count": 95,
     "metadata": {},
     "output_type": "execute_result"
    }
   ],
   "source": [
    "for i in range(len(num1)):\n",
    "    for j in range(i+1,len(num1)):\n",
    "        if num1[i]>=num1[j]:\n",
    "            ad=num1[j]\n",
    "            num1[j]=num1[i]\n",
    "            num1[i]=ad\n",
    "num1"
   ]
  },
  {
   "cell_type": "markdown",
   "id": "f5ca5888",
   "metadata": {},
   "source": [
    "### Q-51 Find the longest palindrome string in a list"
   ]
  },
  {
   "cell_type": "code",
   "execution_count": 102,
   "id": "d448aeab",
   "metadata": {},
   "outputs": [
    {
     "data": {
      "text/plain": [
       "[66, 121, 131, 141]"
      ]
     },
     "execution_count": 102,
     "metadata": {},
     "output_type": "execute_result"
    }
   ],
   "source": [
    "num=[121,66,131,141]\n",
    "for i in range(len(num)):\n",
    "    for j in range(i+1,len(num)):\n",
    "        if num[i]>=num[j]:\n",
    "            af=num[j]\n",
    "            num[j]=num[i]\n",
    "            num[i]=af\n",
    "num"
   ]
  },
  {
   "cell_type": "code",
   "execution_count": 3,
   "id": "786462f8",
   "metadata": {},
   "outputs": [
    {
     "name": "stdout",
     "output_type": "stream",
     "text": [
      "enter a number66\n",
      "66\n"
     ]
    }
   ],
   "source": [
    "num=eval(input(\"enter a number\"))\n",
    "a=0\n",
    "num1=num\n",
    "while num !=0:\n",
    "    rem=num%10\n",
    "    num=num//10\n",
    "    a=a*10+rem\n",
    "if num1==a:\n",
    "    print(a)"
   ]
  },
  {
   "cell_type": "markdown",
   "id": "8622fd51",
   "metadata": {},
   "source": [
    "### Q-52 counting distict element in a list"
   ]
  },
  {
   "cell_type": "code",
   "execution_count": null,
   "id": "518d7c2b",
   "metadata": {},
   "outputs": [],
   "source": []
  },
  {
   "cell_type": "markdown",
   "id": "179886fa",
   "metadata": {},
   "source": [
    "### Q-53 Find the repeating element in the list"
   ]
  },
  {
   "cell_type": "code",
   "execution_count": 108,
   "id": "e320f34c",
   "metadata": {},
   "outputs": [
    {
     "name": "stdout",
     "output_type": "stream",
     "text": [
      "1\n",
      "2\n",
      "3\n"
     ]
    }
   ],
   "source": [
    "num=[1,2,3,4,1,2,3,5,6]\n",
    "for i in range(len(num)):\n",
    "    for j in range(i+1,len(num)):\n",
    "        if num[i] == num[j]:\n",
    "            print(num[j])"
   ]
  },
  {
   "cell_type": "markdown",
   "id": "5f87e8c4",
   "metadata": {},
   "source": [
    "### Q-54 Find the non repeating element in a list"
   ]
  },
  {
   "cell_type": "code",
   "execution_count": 21,
   "id": "bcce13ef",
   "metadata": {},
   "outputs": [
    {
     "data": {
      "text/plain": [
       "[4, 5, 6]"
      ]
     },
     "execution_count": 21,
     "metadata": {},
     "output_type": "execute_result"
    }
   ],
   "source": [
    "num=[1,2,3,4,1,2,3,5,6]\n",
    "unique=[i for i in num if num.count(i)==1]\n",
    "unique"
   ]
  },
  {
   "cell_type": "code",
   "execution_count": 22,
   "id": "2c9cd709",
   "metadata": {},
   "outputs": [
    {
     "data": {
      "text/plain": [
       "[0, 0, 0, 0]"
      ]
     },
     "execution_count": 22,
     "metadata": {},
     "output_type": "execute_result"
    }
   ],
   "source": []
  },
  {
   "cell_type": "markdown",
   "id": "f887791a",
   "metadata": {},
   "source": [
    "### Q-55 removing duplicates element frome a list"
   ]
  },
  {
   "cell_type": "code",
   "execution_count": null,
   "id": "12c8e222",
   "metadata": {},
   "outputs": [],
   "source": [
    "num=[1,2,3,4,1,2,3,5,6]\n",
    "for i in range(len(num)):\n",
    "    "
   ]
  },
  {
   "cell_type": "code",
   "execution_count": 136,
   "id": "377217f7",
   "metadata": {},
   "outputs": [
    {
     "data": {
      "text/plain": [
       "[0, 2, 3, 4, 0]"
      ]
     },
     "execution_count": 136,
     "metadata": {},
     "output_type": "execute_result"
    }
   ],
   "source": [
    "num=[1,2,3,1,2,2,3,3,3]\n",
    "num1=[0]*5\n",
    "for i in range(0,len(num)):\n",
    "    num1[num[i]]+=1\n",
    "    if count"
   ]
  },
  {
   "cell_type": "markdown",
   "id": "db14a9b1",
   "metadata": {},
   "source": [
    "## Q-60 counting the number of even and odd in a list"
   ]
  },
  {
   "cell_type": "code",
   "execution_count": 8,
   "id": "2c2d78c0",
   "metadata": {},
   "outputs": [
    {
     "name": "stdout",
     "output_type": "stream",
     "text": [
      "even:2,odd:5\n"
     ]
    }
   ],
   "source": [
    "list1=[11,12,13,14,15,7,5]\n",
    "count=0\n",
    "count1=0\n",
    "for i in list1:\n",
    "    if i%2==0:\n",
    "        count+=1\n",
    "    else:\n",
    "        count1+=1\n",
    "print(f\"even:{count},odd:{count1}\")"
   ]
  },
  {
   "cell_type": "markdown",
   "id": "deeda81d",
   "metadata": {},
   "source": [
    "### Q-61 Finding symmetric pairs in a list in python\n",
    "#### list=[(10,20),(30,40),(15,20),(11,12),(20,10),(40,30),(20,15)]\n",
    "#### output=(10,20),(30,40),(15,20),(20,10),(40,30),(20,15)"
   ]
  },
  {
   "cell_type": "code",
   "execution_count": 48,
   "id": "125fa581",
   "metadata": {},
   "outputs": [],
   "source": [
    "list2=[(10,20),(30,40),(15,20),(11,12),(20,10),(40,30),(20,15)]\n",
    "# for i in range(len(list2)):\n",
    "#     #print(list2[i])\n",
    "#     for j in range(i+1,len(list2)):\n",
    "#         #print(list2[j])\n",
    "#         if list2[i]==list2[j]:\n",
    "#             print(\"hau\")\n",
    "#             break"
   ]
  },
  {
   "cell_type": "code",
   "execution_count": 53,
   "id": "d0fa5fda",
   "metadata": {},
   "outputs": [],
   "source": [
    "a,b=(10,20)\n"
   ]
  },
  {
   "cell_type": "code",
   "execution_count": 62,
   "id": "17a26a66",
   "metadata": {},
   "outputs": [
    {
     "ename": "SyntaxError",
     "evalue": "invalid syntax (174889368.py, line 4)",
     "output_type": "error",
     "traceback": [
      "\u001b[1;36m  Cell \u001b[1;32mIn[62], line 4\u001b[1;36m\u001b[0m\n\u001b[1;33m    if a,b==b,a:\u001b[0m\n\u001b[1;37m        ^\u001b[0m\n\u001b[1;31mSyntaxError\u001b[0m\u001b[1;31m:\u001b[0m invalid syntax\n"
     ]
    }
   ],
   "source": [
    "for i in list2:\n",
    "    a,b=i\n",
    "    b,a=i\n",
    "    if a,b==b,a:\n",
    "        print(a,b)"
   ]
  },
  {
   "cell_type": "markdown",
   "id": "c8dfcfc6",
   "metadata": {},
   "source": [
    "### Q-62 Find maximum product subarray in a given list"
   ]
  },
  {
   "cell_type": "code",
   "execution_count": null,
   "id": "66ebf305",
   "metadata": {},
   "outputs": [],
   "source": []
  },
  {
   "cell_type": "markdown",
   "id": "4041abf4",
   "metadata": {},
   "source": [
    "### Q-63 Finding list are disjoint or not [1,2,3],[4,5,6] are disjoint because element are different in the list"
   ]
  },
  {
   "cell_type": "code",
   "execution_count": null,
   "id": "1f982d2c",
   "metadata": {},
   "outputs": [],
   "source": []
  },
  {
   "cell_type": "markdown",
   "id": "7f1d0d14",
   "metadata": {},
   "source": [
    "### Q-64 Determine list is a subset of another list or not"
   ]
  },
  {
   "cell_type": "code",
   "execution_count": null,
   "id": "827ca7d6",
   "metadata": {},
   "outputs": [],
   "source": []
  },
  {
   "cell_type": "markdown",
   "id": "9b9841f9",
   "metadata": {},
   "source": [
    "### Q-65 Determine can all number of a list be made equal"
   ]
  },
  {
   "cell_type": "code",
   "execution_count": null,
   "id": "7f8a3477",
   "metadata": {},
   "outputs": [],
   "source": []
  },
  {
   "cell_type": "markdown",
   "id": "714e63de",
   "metadata": {},
   "source": [
    "### Q-66 Finding minimum sum of absolute difference of given list"
   ]
  },
  {
   "cell_type": "code",
   "execution_count": null,
   "id": "b9b76f5f",
   "metadata": {},
   "outputs": [],
   "source": []
  },
  {
   "cell_type": "markdown",
   "id": "2df30517",
   "metadata": {},
   "source": [
    "### Q-67 Sort the array according to order difind by another array"
   ]
  },
  {
   "cell_type": "code",
   "execution_count": null,
   "id": "b689068c",
   "metadata": {},
   "outputs": [],
   "source": []
  },
  {
   "cell_type": "markdown",
   "id": "b0cd31d9",
   "metadata": {},
   "source": [
    "### Q-70 Rotation of elements of array left and right"
   ]
  },
  {
   "cell_type": "code",
   "execution_count": null,
   "id": "1c19e15e",
   "metadata": {},
   "outputs": [],
   "source": []
  },
  {
   "cell_type": "markdown",
   "id": "95212a81",
   "metadata": {},
   "source": [
    "# String question start"
   ]
  },
  {
   "cell_type": "markdown",
   "id": "098385e7",
   "metadata": {},
   "source": [
    "### Q-71 Check whether a characte is a vowel or consonant "
   ]
  },
  {
   "cell_type": "code",
   "execution_count": 8,
   "id": "32c5c802",
   "metadata": {},
   "outputs": [
    {
     "name": "stdout",
     "output_type": "stream",
     "text": [
      "Enter  a characte a\n",
      "The given characte is vowel a\n"
     ]
    }
   ],
   "source": [
    "num=str(input(\"Enter  a characte \"))\n",
    "vowel='aeiou'\n",
    "for i in num:\n",
    "    if i in vowel:\n",
    "        print(\"The given characte is vowel\",i)\n",
    "    else:\n",
    "        print(\"The given characte is consonant\",i)"
   ]
  },
  {
   "cell_type": "markdown",
   "id": "e6552d4d",
   "metadata": {},
   "source": [
    "### Q-72 Check whether a characte is a alphabet or not "
   ]
  },
  {
   "cell_type": "code",
   "execution_count": 24,
   "id": "7c9e28c8",
   "metadata": {},
   "outputs": [],
   "source": [
    "# num='ndcnw123'\n",
    "# for i in num:"
   ]
  },
  {
   "cell_type": "code",
   "execution_count": null,
   "id": "6a2a6b8f",
   "metadata": {},
   "outputs": [],
   "source": []
  },
  {
   "cell_type": "markdown",
   "id": "a688ec19",
   "metadata": {},
   "source": [
    "### Q-73 Find the Ascii value of a character"
   ]
  },
  {
   "cell_type": "code",
   "execution_count": 28,
   "id": "c363acab",
   "metadata": {},
   "outputs": [
    {
     "name": "stdout",
     "output_type": "stream",
     "text": [
      "Ascii value of given character a : 97\n",
      "Ascii value of given character b : 98\n"
     ]
    }
   ],
   "source": [
    "num=\"ab\"\n",
    "for i in num:\n",
    "    print(\"Ascii value of given character\", i,\":\",ord(i))"
   ]
  },
  {
   "cell_type": "markdown",
   "id": "977e1555",
   "metadata": {},
   "source": [
    "### Q-74 Lenth of the string without is use len function"
   ]
  },
  {
   "cell_type": "code",
   "execution_count": 33,
   "id": "2f3c9585",
   "metadata": {},
   "outputs": [
    {
     "name": "stdout",
     "output_type": "stream",
     "text": [
      "len of given string 8\n"
     ]
    }
   ],
   "source": [
    "num='abhdjdhk'\n",
    "count=0\n",
    "for i in num:\n",
    "    count+=1\n",
    "print(\"len of given string\",count)"
   ]
  },
  {
   "cell_type": "markdown",
   "id": "1d557d69",
   "metadata": {},
   "source": [
    "### Q-75 Toggle each character in string (lower to upper case ,upper to lower case)"
   ]
  },
  {
   "cell_type": "code",
   "execution_count": 37,
   "id": "e717e33f",
   "metadata": {},
   "outputs": [
    {
     "data": {
      "text/plain": [
       "True"
      ]
     },
     "execution_count": 37,
     "metadata": {},
     "output_type": "execute_result"
    }
   ],
   "source": [
    "'a'.islower()"
   ]
  },
  {
   "cell_type": "markdown",
   "id": "56a00158",
   "metadata": {},
   "source": [
    "### Q-76 Count the number of vowels "
   ]
  },
  {
   "cell_type": "code",
   "execution_count": 44,
   "id": "d34aac4d",
   "metadata": {},
   "outputs": [
    {
     "name": "stdout",
     "output_type": "stream",
     "text": [
      "numer of vowel in given string 5\n"
     ]
    }
   ],
   "source": [
    "num=\"kcdcwcidcrgtaaaes\"\n",
    "vowel=\"aeiou\"\n",
    "count=0\n",
    "for i in num:\n",
    "    if i in vowel:\n",
    "        count+=1\n",
    "print(\"numer of vowel in given string\",count)"
   ]
  },
  {
   "cell_type": "markdown",
   "id": "fbd5937a",
   "metadata": {},
   "source": [
    "### Q-77 Remove the vowels from the string"
   ]
  },
  {
   "cell_type": "code",
   "execution_count": 61,
   "id": "507a6847",
   "metadata": {},
   "outputs": [
    {
     "name": "stdout",
     "output_type": "stream",
     "text": [
      "k c d c w c d c r g t s "
     ]
    }
   ],
   "source": [
    "\n",
    "for i in num:\n",
    "    if i not in vowel:\n",
    "        a=i\n",
    "        print(a,end=\" \")\n"
   ]
  },
  {
   "cell_type": "markdown",
   "id": "c0403fda",
   "metadata": {},
   "source": [
    "### Q-78 Check if the string is palindrome or not"
   ]
  },
  {
   "cell_type": "code",
   "execution_count": null,
   "id": "80b980ce",
   "metadata": {},
   "outputs": [],
   "source": []
  },
  {
   "cell_type": "code",
   "execution_count": null,
   "id": "442cd836",
   "metadata": {},
   "outputs": [],
   "source": []
  },
  {
   "cell_type": "code",
   "execution_count": null,
   "id": "cdb8773e",
   "metadata": {},
   "outputs": [],
   "source": []
  },
  {
   "cell_type": "code",
   "execution_count": null,
   "id": "ce42e88a",
   "metadata": {},
   "outputs": [],
   "source": []
  },
  {
   "cell_type": "code",
   "execution_count": null,
   "id": "aca5220d",
   "metadata": {},
   "outputs": [],
   "source": []
  },
  {
   "cell_type": "code",
   "execution_count": null,
   "id": "5179ff3f",
   "metadata": {},
   "outputs": [],
   "source": []
  }
 ],
 "metadata": {
  "kernelspec": {
   "display_name": "Python 3 (ipykernel)",
   "language": "python",
   "name": "python3"
  },
  "language_info": {
   "codemirror_mode": {
    "name": "ipython",
    "version": 3
   },
   "file_extension": ".py",
   "mimetype": "text/x-python",
   "name": "python",
   "nbconvert_exporter": "python",
   "pygments_lexer": "ipython3",
   "version": "3.11.5"
  }
 },
 "nbformat": 4,
 "nbformat_minor": 5
}
